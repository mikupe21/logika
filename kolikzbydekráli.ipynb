{
  "nbformat": 4,
  "nbformat_minor": 0,
  "metadata": {
    "colab": {
      "name": "Untitled0.ipynb",
      "provenance": [],
      "authorship_tag": "ABX9TyPdiliGBe3i28o2i7RU7BZe",
      "include_colab_link": true
    },
    "kernelspec": {
      "name": "python3",
      "display_name": "Python 3"
    }
  },
  "cells": [
    {
      "cell_type": "markdown",
      "metadata": {
        "id": "view-in-github",
        "colab_type": "text"
      },
      "source": [
        "<a href=\"https://colab.research.google.com/github/mikupe21/logika/blob/main/kolikzbydekr%C3%A1li.ipynb\" target=\"_parent\"><img src=\"https://colab.research.google.com/assets/colab-badge.svg\" alt=\"Open In Colab\"/></a>"
      ]
    },
    {
      "cell_type": "code",
      "metadata": {
        "id": "4lUvO0oJyxNJ",
        "outputId": "e3138612-12cb-4f50-b531-2c142b7191f1",
        "colab": {
          "base_uri": "https://localhost:8080/"
        }
      },
      "source": [
        "x=1256983\n",
        "y=28\n",
        "z=x/y\n",
        "w=x-(int(z)*y)\n",
        "print(w)"
      ],
      "execution_count": 21,
      "outputs": [
        {
          "output_type": "stream",
          "text": [
            "7\n"
          ],
          "name": "stdout"
        }
      ]
    }
  ]
}