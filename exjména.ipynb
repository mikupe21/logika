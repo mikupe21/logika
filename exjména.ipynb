{
  "nbformat": 4,
  "nbformat_minor": 0,
  "metadata": {
    "colab": {
      "name": "Untitled4.ipynb",
      "provenance": [],
      "authorship_tag": "ABX9TyNBxfK9cbjdDQN199Ph/dC2",
      "include_colab_link": true
    },
    "kernelspec": {
      "name": "python3",
      "display_name": "Python 3"
    }
  },
  "cells": [
    {
      "cell_type": "markdown",
      "metadata": {
        "id": "view-in-github",
        "colab_type": "text"
      },
      "source": [
        "<a href=\"https://colab.research.google.com/github/mikupe21/logika/blob/main/exjm%C3%A9na.ipynb\" target=\"_parent\"><img src=\"https://colab.research.google.com/assets/colab-badge.svg\" alt=\"Open In Colab\"/></a>"
      ]
    },
    {
      "cell_type": "code",
      "metadata": {
        "id": "SZOdOnSfTIlE",
        "outputId": "185555b7-ed97-411f-a809-3af916f90ff0",
        "colab": {
          "base_uri": "https://localhost:8080/"
        }
      },
      "source": [
        "names_list = ['Jiri', 'Jan', 'Marie', 'Petr', 'Jana', 'Josef',\n",
        "'Pavel', 'Martin', 'Jaroslav', 'Tomas', 'Eva', 'Miroslav',\n",
        "'Hana', 'Anna', 'Zdenek', 'Frantisek', 'Vaclav', 'Michal',\n",
        "'Lenka', 'Katerina']\n",
        "x = (input(\"write \"))\n"
      ],
      "execution_count": 29,
      "outputs": [
        {
          "output_type": "stream",
          "text": [
            "write jj\n"
          ],
          "name": "stdout"
        }
      ]
    },
    {
      "cell_type": "code",
      "metadata": {
        "id": "eDDddir5Tc5S",
        "outputId": "866cf909-e6dd-42d0-93a4-c550fc307fe0",
        "colab": {
          "base_uri": "https://localhost:8080/"
        }
      },
      "source": [
        "if (x in names_list):\n",
        "  print (\"your name is between top 20 czech names\")\n",
        "if not(x in names_list):\n",
        "  print (\"your name is not between top 20 czech names\")"
      ],
      "execution_count": 31,
      "outputs": [
        {
          "output_type": "stream",
          "text": [
            "your name is not between top 20 czech names\n"
          ],
          "name": "stdout"
        }
      ]
    }
  ]
}