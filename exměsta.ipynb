{
  "nbformat": 4,
  "nbformat_minor": 0,
  "metadata": {
    "colab": {
      "name": "Untitled3.ipynb",
      "provenance": [],
      "authorship_tag": "ABX9TyOvXWtJq/CJs5Hs7/jbrOD/",
      "include_colab_link": true
    },
    "kernelspec": {
      "name": "python3",
      "display_name": "Python 3"
    }
  },
  "cells": [
    {
      "cell_type": "markdown",
      "metadata": {
        "id": "view-in-github",
        "colab_type": "text"
      },
      "source": [
        "<a href=\"https://colab.research.google.com/github/mikupe21/logika/blob/main/exm%C4%9Bsta.ipynb\" target=\"_parent\"><img src=\"https://colab.research.google.com/assets/colab-badge.svg\" alt=\"Open In Colab\"/></a>"
      ]
    },
    {
      "cell_type": "code",
      "metadata": {
        "id": "AM9ihIaVNvtw"
      },
      "source": [
        ""
      ],
      "execution_count": null,
      "outputs": []
    },
    {
      "cell_type": "code",
      "metadata": {
        "id": "9qEUbV4lNQRZ",
        "outputId": "dd24f5f1-ca1f-4ec6-fa7f-f28577e6e52e",
        "colab": {
          "base_uri": "https://localhost:8080/"
        }
      },
      "source": [
        "cities =[\"Prague\", \"Brno\", \"Ostrava\", \"Plzen\", 'Liberec',\n",
        "'Olomouc', 'Usti nad Labem', 'Hradec Kralove', \"Ceske Budejovice\", 'Pardubice']\n",
        "sorted(cities)\n",
        "x= \"*\".join(cities)\n",
        "print (x)\n",
        "print (sorted(cities))"
      ],
      "execution_count": 6,
      "outputs": [
        {
          "output_type": "stream",
          "text": [
            "Prague*Brno*Ostrava*Plzen*Liberec*Olomouc*Usti nad Labem*Hradec Kralove*Ceske Budejovice*Pardubice\n",
            "['Brno', 'Ceske Budejovice', 'Hradec Kralove', 'Liberec', 'Olomouc', 'Ostrava', 'Pardubice', 'Plzen', 'Prague', 'Usti nad Labem']\n"
          ],
          "name": "stdout"
        }
      ]
    },
    {
      "cell_type": "code",
      "metadata": {
        "id": "dkWEvE-wTGO2"
      },
      "source": [
        ""
      ],
      "execution_count": null,
      "outputs": []
    }
  ]
}